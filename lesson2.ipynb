{
 "cells": [
  {
   "cell_type": "markdown",
   "metadata": {},
   "source": [
    "# Урок 2: Условия и циклы в Python\n",
    "\n",
    "Привет! В этом уроке ты научишься:\n",
    "- Использовать условные конструкции (`if`, `elif`, `else`)\n",
    "- Писать циклы (`for` и `while`)\n",
    "- Решать задачи с числами и строками\n",
    "\n",
    "Готов? Поехали! 🚀"
   ]
  },
  {
   "cell_type": "markdown",
   "metadata": {},
   "source": [
    "## 1. Условные конструкции: `if`, `elif`, `else`\n",
    "\n",
    "Условия позволяют программе принимать решения."
   ]
  },
  {
   "cell_type": "code",
   "execution_count": null,
   "metadata": {},
   "outputs": [],
   "source": [
    "age = 17\n",
    "\n",
    "if age >= 18:\n",
    "    print(\"Вы совершеннолетний!\")\n",
    "else:\n",
    "    print(\"Вы ещё несовершеннолетний.\")"
   ]
  },
  {
   "cell_type": "markdown",
   "metadata": {},
   "source": [
    "Можно проверять несколько условий с помощью `elif`:"
   ]
  },
  {
   "cell_type": "code",
   "execution_count": null,
   "metadata": {},
   "outputs": [],
   "source": [
    "score = 85\n",
    "\n",
    "if score >= 90:\n",
    "    grade = \"A\"\n",
    "elif score >= 80:\n",
    "    grade = \"B\"\n",
    "elif score >= 70:\n",
    "    grade = \"C\"\n",
    "else:\n",
    "    grade = \"F\"\n",
    "\n",
    "print(\"Ваша оценка:\", grade)"
   ]
  },
  {
   "cell_type": "markdown",
   "metadata": {},
   "source": [
    "✅ **Важно**:\n",
    "- Отступы (4 пробела или Tab) обязательны в Python!\n",
    "- Условия могут включать логические операторы: `and`, `or`, `not`."
   ]
  },
  {
   "cell_type": "markdown",
   "metadata": {},
   "source": [
    "## 2. Цикл `for`\n",
    "\n",
    "Цикл `for` используется для перебора последовательностей (списков, строк, диапазонов и т.д.)."
   ]
  },
  {
   "cell_type": "code",
   "execution_count": null,
   "metadata": {},
   "outputs": [],
   "source": [
    "# Перебор чисел\n",
    "for i in range(5):  # 0, 1, 2, 3, 4\n",
    "    print(\"Число:\", i)\n",
    "\n",
    "# Перебор строки\n",
    "word = \"Python\"\n",
    "for letter in word:\n",
    "    print(\"Буква:\", letter)"
   ]
  },
  {
   "cell_type": "markdown",
   "metadata": {},
   "source": [
    "Функция `range(start, stop, step)` позволяет задавать диапазон:\n",
    "- `range(3)` → 0, 1, 2\n",
    "- `range(1, 5)` → 1, 2, 3, 4\n",
    "- `range(0, 10, 2)` → 0, 2, 4, 6, 8"
   ]
  },
  {
   "cell_type": "markdown",
   "metadata": {},
   "source": [
    "## 3. Цикл `while`\n",
    "\n",
    "Цикл `while` выполняется, пока условие истинно."
   ]
  },
  {
   "cell_type": "code",
   "execution_count": null,
   "metadata": {},
   "outputs": [],
   "source": [
    "count = 3\n",
    "while count > 0:\n",
    "    print(\"Обратный отсчёт:\", count)\n",
    "    count -= 1\n",
    "print(\"Пуск!\")"
   ]
  },
  {
   "cell_type": "markdown",
   "metadata": {},
   "source": [
    "⚠️ **Осторожно**: забытый выход из цикла может привести к бесконечному выполнению!"
   ]
  },
  {
   "cell_type": "markdown",
   "metadata": {},
   "source": [
    "## 4. Полезные команды внутри циклов\n",
    "\n",
    "- `break` — немедленно выйти из цикла\n",
    "- `continue` — пропустить текущую итерацию"
   ]
  },
  {
   "cell_type": "code",
   "execution_count": null,
   "metadata": {},
   "outputs": [],
   "source": [
    "for i in range(10):\n",
    "    if i == 3:\n",
    "        continue  # пропустить 3\n",
    "    if i == 7:\n",
    "        break     # остановиться на 7\n",
    "    print(i)"
   ]
  },
  {
   "cell_type": "markdown",
   "metadata": {},
   "source": [
    "## 5. Практика: Задачи с числами\n",
    "\n",
    "Реши как можно больше! Пиши код в пустых ячейках ниже."
   ]
  },
  {
   "cell_type": "markdown",
   "metadata": {},
   "source": [
    "### Задача 1. Чётное или нечётное?\n",
    "Напиши программу, которая определяет, чётное ли число."
   ]
  },
  {
   "cell_type": "code",
   "execution_count": null,
   "metadata": {},
   "outputs": [],
   "source": [
    "# Твой код\n",
    "number = 14\n",
    "# ..."
   ]
  },
  {
   "cell_type": "markdown",
   "metadata": {},
   "source": [
    "### Задача 2. Сумма чисел от 1 до N\n",
    "Найди сумму всех целых чисел от 1 до N (включительно) с помощью цикла `for`."
   ]
  },
  {
   "cell_type": "code",
   "execution_count": null,
   "metadata": {},
   "outputs": [],
   "source": [
    "N = 10\n",
    "# Твой код"
   ]
  },
  {
   "cell_type": "markdown",
   "metadata": {},
   "source": [
    "### Задача 3. Факториал\n",
    "Вычисли факториал числа N (N! = 1 × 2 × 3 × ... × N)."
   ]
  },
  {
   "cell_type": "code",
   "execution_count": null,
   "metadata": {},
   "outputs": [],
   "source": [
    "N = 5\n",
    "# Твой код"
   ]
  },
  {
   "cell_type": "markdown",
   "metadata": {},
   "source": [
    "### Задача 4. Простое число?\n",
    "Напиши программу, которая проверяет, является ли число простым (делится только на 1 и на себя)."
   ]
  },
  {
   "cell_type": "code",
   "execution_count": null,
   "metadata": {},
   "outputs": [],
   "source": [
    "num = 17\n",
    "# Твой код"
   ]
  },
  {
   "cell_type": "markdown",
   "metadata": {},
   "source": [
    "## 6. Практика: Задачи со строками"
   ]
  },
  {
   "cell_type": "markdown",
   "metadata": {},
   "source": [
    "### Задача 5. Подсчёт гласных\n",
    "Посчитай, сколько гласных букв (`а, е, ё, и, о, у, ы, э, ю, я`) в строке. Игнорируй регистр."
   ]
  },
  {
   "cell_type": "code",
   "execution_count": null,
   "metadata": {},
   "outputs": [],
   "source": [
    "text = \"Привет, Мир!\"\n",
    "vowels = \"аеёиоуыэюя\"\n",
    "# Твой код"
   ]
  },
  {
   "cell_type": "markdown",
   "metadata": {},
   "source": [
    "### Задача 6. Палиндром?\n",
    "Проверь, является ли слово палиндромом (читается одинаково слева направо и справа налево). Пример: \"топот\", \"анна\"."
   ]
  },
  {
   "cell_type": "code",
   "execution_count": null,
   "metadata": {},
   "outputs": [],
   "source": [
    "word = \"топот\"\n",
    "# Твой код"
   ]
  },
  {
   "cell_type": "markdown",
   "metadata": {},
   "source": [
    "### Задача 7. Удаление пробелов\n",
    "Удали все пробелы из строки и выведи результат."
   ]
  },
  {
   "cell_type": "code",
   "execution_count": null,
   "metadata": {},
   "outputs": [],
   "source": [
    "sentence = \"  Привет,    как дела?  \"\n",
    "# Твой код"
   ]
  },
  {
   "cell_type": "markdown",
   "metadata": {},
   "source": [
    "### Задача 8. Замена символов\n",
    "Замени все буквы `о` на `0` и `а` на `4` в строке (типа \"хакерский\" стиль)."
   ]
  },
  {
   "cell_type": "code",
   "execution_count": null,
   "metadata": {},
   "outputs": [],
   "source": [
    "text = \"Программирование — это круто!\"\n",
    "# Твой код"
   ]
  },
  {
   "cell_type": "markdown",
   "metadata": {},
   "source": [
    "## 7. Комбинированные задачи"
   ]
  },
  {
   "cell_type": "markdown",
   "metadata": {},
   "source": [
    "### Задача 9. FizzBuzz\n",
    "Напечатай числа от 1 до 30. Но:\n",
    "- Если число делится на 3 — напечатай \"Fizz\"\n",
    "- Если делится на 5 — \"Buzz\"\n",
    "- Если делится и на 3, и на 5 — \"FizzBuzz\""
   ]
  },
  {
   "cell_type": "code",
   "execution_count": null,
   "metadata": {},
   "outputs": [],
   "source": [
    "# Твой код"
   ]
  },
  {
   "cell_type": "markdown",
   "metadata": {},
   "source": [
    "### Задача 10. Поиск самого длинного слова\n",
    "Дана строка. Найди самое длинное слово в ней."
   ]
  },
  {
   "cell_type": "code",
   "execution_count": null,
   "metadata": {},
   "outputs": [],
   "source": [
    "sentence = \"Python — это мощный и простой язык программирования\"\n",
    "# Твой код"
   ]
  },
  {
   "cell_type": "markdown",
   "metadata": {},
   "source": [
    "## Заключение\n",
    "\n",
    "Отличная работа! 🎉\n",
    "\n",
    "Теперь ты умеешь:\n",
    "- Принимать решения с `if/elif/else`\n",
    "- Использовать циклы `for` и `while`\n",
    "- Решать задачи с числами и текстом\n",
    "\n",
    "В следующем уроке мы познакомимся со **списками**, **функциями** и начнём писать более сложные программы!\n",
    "\n",
    "Не забудь попробовать все задачи — практика делает мастера! 💪"
   ]
  }
 ],
 "metadata": {
  "kernelspec": {
   "display_name": "Python 3",
   "language": "python",
   "name": "python3"
  },
  "language_info": {
   "name": "python",
   "version": "3.11.0"
  }
 },
 "nbformat": 4,
 "nbformat_minor": 4
}
