{
 "cells": [
  {
   "cell_type": "markdown",
   "metadata": {},
   "source": [
    "# Урок 4: Функции в Python\n",
    "\n",
    "Привет! Сегодня ты узнаешь, как писать свои собственные команды — **функции**.\n",
    "\n",
    "Функции помогают:\n",
    "- Не повторять один и тот же код много раз\n",
    "- Делать программы понятнее\n",
    "- Решать задачи по частям\n",

    "\n",
    "Поехали! 🚀"
   ]
  },
  {
   "cell_type": "markdown",
   "metadata": {},
   "source": [
    "## 1. Что такое функция?\n",
    "\n",
    "Функция — это как **готовая команда**, которую ты можешь вызвать в любой момент.\n",
    "\n",
    "Например, `print()` — это уже готовая функция. А ты можешь создать **свою**!"
   ]
  },
  {
   "cell_type": "code",
   "execution_count": null,
   "metadata": {},
   "outputs": [],
   "source": [
    "def privet():\n",
    "    print(\"Привет! Как дела?\")\n",
    "\n",
    "# Вызываем функцию\n",
    "privet()\n",
    "privet()"
   ]
  },
  {
   "cell_type": "markdown",
   "metadata": {},
   "source": [
    "✅ Слово `def` означает «определить функцию».\n",
    "- `privet` — имя функции\n",
    "- После имени идут скобки `()`\n",
    "- Тело функции пишется с отступом (4 пробела)\n",
    "- Чтобы **вызвать** функцию — пишем её имя и скобки: `privet()`"
   ]
  },
  {
   "cell_type": "markdown",
   "metadata": {},
   "source": [
    "## 2. Функции с параметрами\n",
    "\n",
    "Иногда функции нужно что-то передать — например, имя человека.\n",
    "\n",
    "Для этого используются **параметры**:"
   ]
  },
  {
   "cell_type": "code",
   "execution_count": null,
   "metadata": {},
   "outputs": [],
   "source": [
    "def pozdravit(imya):\n",
    "    print(\"Здравствуй, \" + imya + \"!\")\n",
    "\n",
    "pozdravit(\"Анна\")\n",
    "pozdravit(\"Иван\")"
   ]
  },
  {
   "cell_type": "markdown",
   "metadata": {},
   "source": [
    "Здесь:\n",
    "- `imya` — параметр (внутри функции это переменная)\n",
    "- При вызове `pozdravit(\"Анна\")` слово `\"Анна\"` передаётся в `imya`\n",
    "- Мы склеиваем строки с помощью `+` (это мы уже умеем!)"
   ]
  },
  {
   "cell_type": "markdown",
   "metadata": {},
   "source": [
    "## 3. Функции, которые возвращают результат\n",
    "\n",
    "Иногда функция должна **дать ответ**, а не просто напечатать что-то.\n",
    "\n",
    "Для этого используется слово `return`."
   ]
  },
  {
   "cell_type": "code",
   "execution_count": null,
   "metadata": {},
   "outputs": [],
   "source": [
    "def kvadrat(chislo):\n",
    "    resultat = chislo * chislo\n",
    "    return resultat\n",
    "\n",
    "otvet = kvadrat(5)\n",
    "print(\"Квадрат числа 5 равен \" + str(otvet))"
   ]
  },
  {
   "cell_type": "markdown",
   "metadata": {},
   "source": [
    "Важно:\n",
    "- `return` **заканчивает** работу функции\n",
    "- То, что возвращает функция, можно сохранить в переменную (`otvet`)\n",
    "- Чтобы напечатать число вместе со строкой, нужно превратить его в строку с помощью `str()`"
   ]
  },
  {
   "cell_type": "markdown",
   "metadata": {},
   "source": [
    "## 4. Зачем нужны функции?\n",
    "\n",
    "Представь: тебе нужно 5 раз посчитать квадрат числа.\n",
    "\n",
    "Без функции:\n",
    "```python\n",
    "print(3 * 3)\n",
    "print(7 * 7)\n",
    "print(2 * 2)\n",
    "# и так далее...\n",
    "```\n",
    "\n",
    "С функцией:\n",
    "```python\n",
    "print(kvadrat(3))\n",
    "print(kvadrat(7))\n",
    "print(kvadrat(2))\n",
    "```\n",
    "\n",
    "Короче, понятнее и меньше ошибок!"
   ]
  },
  {
   "cell_type": "markdown",
   "metadata": {},
   "source": [
    "## 5. Функции с несколькими параметрами\n",
    "\n",
    "Можно передавать сколько угодно значений:"
   ]
  },
  {
   "cell_type": "code",
   "execution_count": null,
   "metadata": {},
   "outputs": [],
   "source": [
    "def summa(a, b):\n",
    "    return a + b\n",
    "\n",
    "print(\"2 + 3 = \" + str(summa(2, 3)))\n",
    "print(\"10 + 15 = \" + str(summa(10, 15)))"
   ]
  },
  {
   "cell_type": "markdown",
   "metadata": {},
   "source": [
    "Порядок важен: первое число — `a`, второе — `b`."
   ]
  },
  {
   "cell_type": "markdown",
   "metadata": {},
   "source": [
    "## 6. Практика: Задачи на функции\n",
    "\n",
    "Для каждой задачи:\n",
    "1. Напиши функцию\n",
    "2. Вызови её и напечатай результат с помощью `print`\n",
    "3. Используй только то, что уже знаешь: `+`, `*`, `if`, `str()`, `int()`, `return`\n",
    "\n"

   ]
  },
  {
   "cell_type": "markdown",
   "metadata": {},
   "source": [
    "### Задача 1. Утроение числа\n",
    "Напиши функцию `umnozhit_na_tri(x)`, которая возвращает число, умноженное на 3."
   ]
  },
  {
   "cell_type": "code",
   "execution_count": null,
   "metadata": {},
   "outputs": [],
   "source": [
    "# Твой код\n",
    "\n",
    "# Пример вызова:\n",
    "# print(umnozhit_na_tri(4))  # должно напечатать 12"
   ]
  },
  {
   "cell_type": "markdown",
   "metadata": {},
   "source": [
    "### Задача 2. Больше или меньше?\n",
    "Напиши функцию `sravni(a, b)`, которая возвращает строку:\n",
    "- \"первое больше\", если `a > b`\n",
    "- \"второе больше\", если `b > a`\n",
    "- \"равны\", если `a == b`"
   ]
  },
  {
   "cell_type": "code",
   "execution_count": null,
   "metadata": {},
   "outputs": [],
   "source": [
    "# Твой код"
   ]
  },
  {
   "cell_type": "markdown",
   "metadata": {},
   "source": [
    "### Задача 3. Чётное или нечётное?\n",
    "Напиши функцию `chyetnost(n)`, которая возвращает строку \"чётное\" или \"нечётное\"."
   ]
  },
  {
   "cell_type": "code",
   "execution_count": null,
   "metadata": {},
   "outputs": [],
   "source": [
    "# Твой код"
   ]
  },
  {
   "cell_type": "markdown",
   "metadata": {},
   "source": [
    "### Задача 4. Переворот строки\n",
    "Напиши функцию `perevorot(s)`, которая возвращает строку задом наперёд.\n",
    "\n",
    "Подсказка: используй `s[::-1]` — это способ перевернуть строку (мы это видели в уроке 3)."
   ]
  },
  {
   "cell_type": "code",
   "execution_count": null,
   "metadata": {},
   "outputs": [],
   "source": [
    "# Твой код"
   ]
  },
  {
   "cell_type": "markdown",
   "metadata": {},
   "source": [
    "### Задача 5. Площадь прямоугольника\n",
    "Напиши функцию `ploshad(dlinna, shirina)`, которая возвращает площадь (длина × ширина)."
   ]
  },
  {
   "cell_type": "code",
   "execution_count": null,
   "metadata": {},
   "outputs": [],
   "source": [
    "# Твой код"
   ]
  },
  {
   "cell_type": "markdown",
   "metadata": {},
   "source": [
    "### Задача 6. Приветствие с возрастом\n",
    "Напиши функцию `privet_s_vozrastom(imya, vozrast)`, которая возвращает строку вида:\n",
    "```\n",
    "Привет, Анна! Тебе 12 лет.\n",
    "```\n",
    "Используй склеивание строк с `+` и `str()` для числа."
   ]
  },
  {
   "cell_type": "code",
   "execution_count": null,
   "metadata": {},
   "outputs": [],
   "source": [
    "# Твой код"
   ]
  },
  {
   "cell_type": "markdown",
   "metadata": {},
   "source": [
    "### Задача 7. Безопасное деление\n",
    "Напиши функцию `delit(a, b)`, которая:\n",
    "- Если `b` не равно 0 — возвращает результат деления `a / b`\n",
    "- Если `b` равно 0 — возвращает строку \"делить на ноль нельзя\""
   ]
  },
  {
   "cell_type": "code",
   "execution_count": null,
   "metadata": {},
   "outputs": [],
   "source": [
    "# Твой код"
   ]
  },
  {
   "cell_type": "markdown",
   "metadata": {},
   "source": [
    "### Задача 8. Куб числа\n",
    "Напиши функцию `kub(x)`, которая возвращает `x * x * x`."
   ]
  },
  {
   "cell_type": "code",
   "execution_count": null,
   "metadata": {},
   "outputs": [],
   "source": [
    "# Твой код"
   ]
  },
  {
   "cell_type": "markdown",
   "metadata": {},
   "source": [
    "### Задача 9. Длина строки\n",
    "Напиши функцию `dlina_stroki(s)`, которая возвращает длину строки (используй `len(s)`)."
   ]
  },
  {
   "cell_type": "code",
   "execution_count": null,
   "metadata": {},
   "outputs": [],
   "source": [
    "# Твой код"
   ]
  },
  {
   "cell_type": "markdown",
   "metadata": {},
   "source": [
    "### Задача 10. Проверка на палиндром\n",
    "Напиши функцию `palindrom(s)`, которая возвращает `True`, если строка читается одинаково вперёд и назад, и `False` — иначе.\n",
    "\n",
    "Пример: `palindrom(\"топот\")` → `True`, `palindrom(\"кот\")` → `False`.\n",
    "\n",
    "Подсказка: сравни `s` и `s[::-1]`."
   ]
  },
  {
   "cell_type": "code",
   "execution_count": null,
   "metadata": {},
   "outputs": [],
   "source": [
    "# Твой код"
   ]
  },
  {
   "cell_type": "markdown",
   "metadata": {},
   "source": [
    "## Заключение\n",
    "\n",
    "Молодец! 🌟\n",
    "\n",
    "Теперь ты умеешь:\n",
    "- Писать свои функции\n",
    "- Передавать в них числа и строки\n",
    "- Возвращать результаты с помощью `return`\n",
    "- Делать программы короче и понятнее\n",
    "\n",
    "Функции — это как кирпичики, из которых строятся большие программы.\n",
    "\n",
    "В следующем уроке мы начнём работать с **списками** — но пока что ты отлично справился с тем, что уже знаешь!\n",
    "\n",
    "Продолжай в том же духе! 💪"
   ]
  }
 ],
 "metadata": {
  "kernelspec": {
   "display_name": "Python 3",
   "language": "python",
   "name": "python3"
  },
  "language_info": {
   "name": "python",
   "version": "3.11.0"
  }
 },
 "nbformat": 4,
 "nbformat_minor": 4
}
