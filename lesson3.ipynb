{
 "cells": [
  {
   "cell_type": "markdown",
   "metadata": {},
   "source": [
    "# Урок 3: Ввод данных и приведение типов\n",
    "\n",
    "Привет! Сегодня ты научишься:\n",
    "- Получать данные от пользователя через консоль\n",
    "- Преобразовывать типы данных (например, строку в число)\n",
    "- Безопасно работать с пользовательским вводом\n",
    "- Решать практические задачи с вводом и преобразованием\n",
    "\n",
    "Готов? Поехали! 💻"
   ]
  },
  {
   "cell_type": "markdown",
   "metadata": {},
   "source": [
    "## 1. Функция `input()` — ввод от пользователя\n",
    "\n",
    "Функция `input()` **всегда возвращает строку** (`str`), даже если пользователь ввёл число."
   ]
  },
  {
   "cell_type": "code",
   "execution_count": null,
   "metadata": {},
   "outputs": [],
   "source": [
    "name = input(\"Как тебя зовут? \")\n",
    "print(\"Привет,\", name + \"!\")"
   ]
  },
  {
   "cell_type": "markdown",
   "metadata": {},
   "source": [
    "⚠️ В Jupyter Notebook `input()` работает, но интерфейс может немного отличаться от обычной консоли. В Colab или терминале — всё стандартно."
   ]
  },
  {
   "cell_type": "markdown",
   "metadata": {},
   "source": [
    "## 2. Приведение типов (type conversion)\n",
    "\n",
    "Поскольку `input()` даёт строку, а нам часто нужны числа — нужно **преобразовывать типы**.\n",
    "\n",
    "Основные функции:\n",
    "- `int(x)` — преобразует в целое число\n",
    "- `float(x)` — преобразует в дробное число\n",
    "- `str(x)` — преобразует в строку"
   ]
  },
  {
   "cell_type": "code",
   "execution_count": null,
   "metadata": {},
   "outputs": [],
   "source": [
    "age_str = input(\"Сколько тебе лет? \")\n",
    "age = int(age_str)  # преобразуем строку в число\n",
    "print(\"Через 10 лет тебе будет\", age + 10)"
   ]
  },
  {
   "cell_type": "markdown",
   "metadata": {},
   "source": [
    "### Примеры преобразований:"
   ]
  },
  {
   "cell_type": "code",
   "execution_count": null,
   "metadata": {},
   "outputs": [],
   "source": [
    "print(int(\"42\"))        # → 42\n",
    "print(float(\"3.14\"))    # → 3.14\n",
    "print(str(100))         # → \"100\"\n",
    "print(int(3.9))         # → 3 (дробная часть отбрасывается!)\n",
    "print(float(\"10\"))      # → 10.0"
   ]
  },
  {
   "cell_type": "markdown",
   "metadata": {},
   "source": [
    "## 3. Ошибки при преобразовании\n",
    "\n",
    "Если попытаться преобразовать нечисловую строку в число — будет ошибка:"
   ]
  },
  {
   "cell_type": "code",
   "execution_count": null,
   "metadata": {},
   "outputs": [],
   "source": [
    "# ❌ Это вызовет ошибку, если ввести \"привет\"\n",
    "# age = int(input(\"Возраст: \"))"
   ]
  },
  {
   "cell_type": "markdown",
   "metadata": {},
   "source": [
    "### Как избежать ошибок? Используй `try...except` (пока просто знай, что это защита):"
   ]
  },
  {
   "cell_type": "code",
   "execution_count": null,
   "metadata": {},
   "outputs": [],
   "source": [
    "user_input = input(\"Введите число: \")\n",
    "try:\n",
    "    number = float(user_input)\n",
    "    print(\"Вы ввели число:\", number)\n",
    "except ValueError:\n",
    "    print(\"Это не число! Попробуйте снова.\")"
   ]
  },
  {
   "cell_type": "markdown",
   "metadata": {},
   "source": [
    "Позже мы подробно изучим обработку ошибок. А пока — старайся вводить корректные данные в задачах!"
   ]
  },
  {
   "cell_type": "markdown",
   "metadata": {},
   "source": [
    "## 4. Полезные советы\n",
    "\n",
    "- Всегда проверяй, что ожидаешь от пользователя.\n",
    "- Используй `float()` для дробных чисел, `int()` — только для целых.\n",
    "- Можно комбинировать: `int(float(\"3.0\"))` → 3"
   ]
  },
  {
   "cell_type": "markdown",
   "metadata": {},
   "source": [
    "## 5. Практика: 10 задач с вводом и приведением типов\n",
    "\n",
    "Для каждой задачи:\n",
    "1. Запроси данные у пользователя с помощью `input()`\n",
    "2. Преобразуй их в нужный тип\n",
    "3. Выполни вычисления или обработку\n",
    "4. Выведи результат с помощью `print()`\n",
    "\n",
    "💡 Совет: запускай каждую задачу отдельно!"
   ]
  },
  {
   "cell_type": "markdown",
   "metadata": {},
   "source": [
    "### Задача 1. Калькулятор сложения\n",
    "Попроси пользователя ввести два числа и выведи их сумму."
   ]
  },
  {
   "cell_type": "code",
   "execution_count": null,
   "metadata": {},
   "outputs": [],
   "source": [
    "# Твой код"
   ]
  },
  {
   "cell_type": "markdown",
   "metadata": {},
   "source": [
    "### Задача 2. Возраст в днях\n",
    "Спроси возраст в годах и выведи приблизительное количество дней (считай, что в году 365 дней)."
   ]
  },
  {
   "cell_type": "code",
   "execution_count": null,
   "metadata": {},
   "outputs": [],
   "source": [
    "# Твой код"
   ]
  },
  {
   "cell_type": "markdown",
   "metadata": {},
   "source": [
    "### Задача 3. Перевод температуры\n",
    "Попроси ввести температуру в градусах Цельсия и переведи её в Фаренгейты по формуле: `F = C × 9/5 + 32`."
   ]
  },
  {
   "cell_type": "code",
   "execution_count": null,
   "metadata": {},
   "outputs": [],
   "source": [
    "# Твой код"
   ]
  },
  {
   "cell_type": "markdown",
   "metadata": {},
   "source": [
    "### Задача 4. Длина строки\n",
    "Попроси ввести любую строку и выведи её длину."
   ]
  },
  {
   "cell_type": "code",
   "execution_count": null,
   "metadata": {},
   "outputs": [],
   "source": [
    "# Твой код"
   ]
  },
  {
   "cell_type": "markdown",
   "metadata": {},
   "source": [
    "### Задача 5. Обратная строка\n",
    "Попроси ввести слово и выведи его наоборот (например, \"мир\" → \"рим\")."
   ]
  },
  {
   "cell_type": "code",
   "execution_count": null,
   "metadata": {},
   "outputs": [],
   "source": [
    "# Твой код"
   ]
  },
  {
   "cell_type": "markdown",
   "metadata": {},
   "source": [
    "### Задача 6. Среднее арифметическое\n",
    "Попроси ввести три числа и выведи их среднее арифметическое."
   ]
  },
  {
   "cell_type": "code",
   "execution_count": null,
   "metadata": {},
   "outputs": [],
   "source": [
    "# Твой код"
   ]
  },
  {
   "cell_type": "markdown",
   "metadata": {},
   "source": [
    "### Задача 7. Площадь прямоугольника\n",
    "Запроси длину и ширину прямоугольника и вычисли его площадь."
   ]
  },
  {
   "cell_type": "code",
   "execution_count": null,
   "metadata": {},
   "outputs": [],
   "source": [
    "# Твой код"
   ]
  },
  {
   "cell_type": "markdown",
   "metadata": {},
   "source": [
    "### Задача 8. Повтор строки\n",
    "Попроси ввести строку и число N. Выведи эту строку N раз (каждый раз с новой строки)."
   ]
  },
  {
   "cell_type": "code",
   "execution_count": null,
   "metadata": {},
   "outputs": [],
   "source": [
    "# Твой код"
   ]
  },
  {
   "cell_type": "markdown",
   "metadata": {},
   "source": [
    "### Задача 9. Чётность числа\n",
    "Попроси ввести целое число и сообщи, чётное оно или нечётное."
   ]
  },
  {
   "cell_type": "code",
   "execution_count": null,
   "metadata": {},
   "outputs": [],
   "source": [
    "# Твой код"
   ]
  },
  {
   "cell_type": "markdown",
   "metadata": {},
   "source": [
    "### Задача 10. Безопасный калькулятор\n",
    "Попроси ввести два числа и операцию (`+`, `-`, `*`, `/`). Выполни операцию и выведи результат.\n",
    "\n",
    "Подсказка: используй `if` для выбора операции."
   ]
  },
  {
   "cell_type": "code",
   "execution_count": null,
   "metadata": {},
   "outputs": [],
   "source": [
    "# Твой код"
   ]
  },
  {
   "cell_type": "markdown",
   "metadata": {},
   "source": [
    "## Заключение\n",
    "\n",
    "Отлично! 🎉 Теперь ты умеешь:\n",
    "- Получать данные от пользователя\n",
    "- Преобразовывать строки в числа и наоборот\n",
    "- Писать интерактивные программы\n",
    "\n",
    "Это важный шаг к созданию настоящих приложений!\n",
    "\n",
    "В следующем уроке мы изучим **списки** — мощный инструмент для хранения множества значений.\n",
    "\n",
    "Не забудь решить все задачи — они закрепят твои навыки! 💡"
   ]
  }
 ],
 "metadata": {
  "kernelspec": {
   "display_name": "Python 3",
   "language": "python",
   "name": "python3"
  },
  "language_info": {
   "name": "python",
   "version": "3.11.0"
  }
 },
 "nbformat": 4,
 "nbformat_minor": 4
}
