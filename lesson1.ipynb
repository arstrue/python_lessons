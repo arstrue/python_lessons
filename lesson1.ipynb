{
 "cells": [
  {
   "cell_type": "markdown",
   "metadata": {},
   "source": [
    "# Вступительный урок по Python\n",
    "\n",
    "Добро пожаловать в мир программирования на Python! 🐍\n",
    "\n",
    "В этом уроке мы:\n",
    "- Напишем нашу первую программу\n",
    "- Познакомимся с переменными\n",
    "- Изучим основные типы данных\n",
    "- Выполним простые операции\n"
   ]
  },
  {
   "cell_type": "markdown",
   "metadata": {},
   "source": [
    "## 1. Hello, World!\n",
    "\n",
    "Традиционно первая программа любого программиста — это вывод фразы **\"Hello, World!\"** на экран.\n",
    "\n",
    "В Python это делается с помощью функции `print()`:"
   ]
  },
  {
   "cell_type": "code",
   "execution_count": null,
   "metadata": {},
   "outputs": [],
   "source": [
    "print(\"Hello, World!\")"
   ]
  },
  {
   "cell_type": "markdown",
   "metadata": {},
   "source": [
    "Запусти ячейку выше — и ты увидишь приветствие в выводе!\n",
    "\n",
    "✅ **Заметка**: Всё, что находится внутри кавычек (`\"...\"` или `'...'`), Python воспринимает как **строку** (текст)."
   ]
  },
  {
   "cell_type": "markdown",
   "metadata": {},
   "source": [
    "## 2. Переменные\n",
    "\n",
    "Переменная — это имя, которое мы даём значению, чтобы использовать его позже.\n",
    "\n",
    "Пример:"
   ]
  },
  {
   "cell_type": "code",
   "execution_count": null,
   "metadata": {},
   "outputs": [],
   "source": [
    "name = \"Алиса\"\n",
    "age = 25\n",
    "\n",
    "print(\"Привет, меня зовут\", name)\n",
    "print(\"Мне\", age, \"лет\")"
   ]
  },
  {
   "cell_type": "markdown",
   "metadata": {},
   "source": [
    "Здесь:\n",
    "- `name` — переменная, хранящая строку\n",
    "- `age` — переменная, хранящая число\n",
    "\n",
    "Имена переменных:\n",
    "- Должны начинаться с буквы или `_`\n",
    "- Не могут содержать пробелы\n",
    "- Регистр важен: `Name` ≠ `name`"
   ]
  },
  {
   "cell_type": "markdown",
   "metadata": {},
   "source": [
    "## 3. Типы данных\n",
    "\n",
    "Python автоматически определяет тип данных переменной. Основные типы:\n",
    "\n",
    "| Тип | Пример | Описание |\n",
    "|------|--------|----------|\n",
    "| `int` | `42` | Целое число |\n",
    "| `float` | `3.14` | Дробное число |\n",
    "| `str` | `\"Python\"` | Строка (текст) |\n",
    "| `bool` | `True`, `False` | Логическое значение |\n"
   ]
  },
  {
   "cell_type": "code",
   "execution_count": null,
   "metadata": {},
   "outputs": [],
   "source": [
    "# Примеры разных типов\n",
    "integer = 100\n",
    "floating = 3.1415\n",
    "text = \"Привет!\"\n",
    "is_student = True\n",
    "\n",
    "print(integer, type(integer))\n",
    "print(floating, type(floating))\n",
    "print(text, type(text))\n",
    "print(is_student, type(is_student))"
   ]
  },
  {
   "cell_type": "markdown",
   "metadata": {},
   "source": [
    "Функция `type()` показывает тип переменной."
   ]
  },
  {
   "cell_type": "markdown",
   "metadata": {},
   "source": [
    "## 4. Операции\n",
    "\n",
    "### Арифметические операции\n",
    "\n",
    "Python поддерживает стандартные математические операции:"
   ]
  },
  {
   "cell_type": "code",
   "execution_count": null,
   "metadata": {},
   "outputs": [],
   "source": [
    "a = 10\n",
    "b = 3\n",
    "\n",
    "print(\"a + b =\", a + b)  # сложение\n",
    "print(\"a - b =\", a - b)  # вычитание\n",
    "print(\"a * b =\", a * b)  # умножение\n",
    "print(\"a / b =\", a / b)  # деление (всегда float)\n",
    "print(\"a // b =\", a // b)  # целочисленное деление\n",
    "print(\"a % b =\", a % b)  # остаток от деления\n",
    "print(\"a ** b =\", a ** b)  # возведение в степень"
   ]
  },
  {
   "cell_type": "markdown",
   "metadata": {},
   "source": [
    "### Операции со строками\n",
    "\n",
    "Строки можно **складывать** (конкатенация) и **умножать** на число:"
   ]
  },
  {
   "cell_type": "code",
   "execution_count": null,
   "metadata": {},
   "outputs": [],
   "source": [
    "greeting = \"Привет\"\n",
    "name = \"Мир\"\n",
    "\n",
    "message = greeting + \", \" + name + \"!\"\n",
    "print(message)\n",
    "\n",
    "print(\"Python! \" * 3)"
   ]
  },
  {
   "cell_type": "markdown",
   "metadata": {},
   "source": [
    "### Логические операции\n",
    "\n",
    "Используются для сравнения значений:"
   ]
  },
  {
   "cell_type": "code",
   "execution_count": null,
   "metadata": {},
   "outputs": [],
   "source": [
    "x = 5\n",
    "y = 10\n",
    "\n",
    "print(x == y)   # равно?\n",
    "print(x != y)   # не равно?\n",
    "print(x < y)    # меньше?\n",
    "print(x >= y)   # больше или равно?\n",
    "\n",
    "# Логические операторы\n",
    "print(x > 0 and y > 0)  # и\n",
    "print(x > 10 or y > 5)  # или\n",
    "print(not x > 10)       # не"
   ]
  },
  {
   "cell_type": "markdown",
   "metadata": {},
   "source": [
    "## 5. Практика\n",
    "\n",
    "Попробуй выполнить следующие задания:\n",
    "\n",
    "1. Создай переменные `city` и `population`, выведи информацию о городе.\n",
    "2. Посчитай сумму, разность и произведение двух чисел.\n",
    "3. Объедини три строки в одну с помощью `+`.\n",
    "\n",
    "Пример:"
   ]
  },
  {
   "cell_type": "code",
   "execution_count": null,
   "metadata": {},
   "outputs": [],
   "source": [
    "# Твой код здесь\n",
    "\n"
   ]
  },
  {
   "cell_type": "markdown",
   "metadata": {},
   "source": [
    "## Заключение\n",
    "\n",
    "Поздравляем! 🎉 Ты сделал первый шаг в изучении Python.\n",
    "\n",
    "Теперь ты знаешь:\n",
    "- Как выводить текст\n",
    "- Что такое переменные и типы данных\n",
    "- Как выполнять базовые операции\n",
    "\n",
    "В следующем уроке мы познакомимся с условиями (`if`), циклами и функциями!\n",
    "\n",
    "Удачи в обучении! 💻"
   ]
  }
 ],
 "metadata": {
  "kernelspec": {
   "display_name": "Python 3",
   "language": "python",
   "name": "python3"
  },
  "language_info": {
   "name": "python",
   "version": "3.11.0"
  }
 },
 "nbformat": 4,
 "nbformat_minor": 4
}
